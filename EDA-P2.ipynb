{
 "cells": [
  {
   "cell_type": "markdown",
   "metadata": {},
   "source": [
    "# Universidad del Valle de Guatemala\n",
    "# Data Science \n",
    "# Proyecto 2\n",
    "> ### Jennifer Sandoval 18962\n",
    "> ### Luis Quezada 18028\n",
    "> ### Esteban del Valle 18221"
   ]
  },
  {
   "cell_type": "code",
   "execution_count": 2,
   "metadata": {},
   "outputs": [],
   "source": [
    "import numpy as np\n",
    "import matplotlib.pyplot as plt\n",
    "import pandas as pd\n",
    "import seaborn as sns\n",
    "from basic_image_eda import BasicImageEDA"
   ]
  },
  {
   "cell_type": "markdown",
   "metadata": {},
   "source": [
    "> # Limpieza de Datos"
   ]
  },
  {
   "cell_type": "code",
   "execution_count": 3,
   "metadata": {},
   "outputs": [
    {
     "data": {
      "text/html": [
       "<div>\n",
       "<style scoped>\n",
       "    .dataframe tbody tr th:only-of-type {\n",
       "        vertical-align: middle;\n",
       "    }\n",
       "\n",
       "    .dataframe tbody tr th {\n",
       "        vertical-align: top;\n",
       "    }\n",
       "\n",
       "    .dataframe thead th {\n",
       "        text-align: right;\n",
       "    }\n",
       "</style>\n",
       "<table border=\"1\" class=\"dataframe\">\n",
       "  <thead>\n",
       "    <tr style=\"text-align: right;\">\n",
       "      <th></th>\n",
       "      <th>id</th>\n",
       "      <th>sex</th>\n",
       "    </tr>\n",
       "  </thead>\n",
       "  <tbody>\n",
       "    <tr>\n",
       "      <th>0</th>\n",
       "      <td>4360</td>\n",
       "      <td>1</td>\n",
       "    </tr>\n",
       "    <tr>\n",
       "      <th>1</th>\n",
       "      <td>4361</td>\n",
       "      <td>1</td>\n",
       "    </tr>\n",
       "    <tr>\n",
       "      <th>2</th>\n",
       "      <td>4362</td>\n",
       "      <td>1</td>\n",
       "    </tr>\n",
       "    <tr>\n",
       "      <th>3</th>\n",
       "      <td>4363</td>\n",
       "      <td>1</td>\n",
       "    </tr>\n",
       "    <tr>\n",
       "      <th>4</th>\n",
       "      <td>4364</td>\n",
       "      <td>1</td>\n",
       "    </tr>\n",
       "    <tr>\n",
       "      <th>...</th>\n",
       "      <td>...</td>\n",
       "      <td>...</td>\n",
       "    </tr>\n",
       "    <tr>\n",
       "      <th>195</th>\n",
       "      <td>4555</td>\n",
       "      <td>0</td>\n",
       "    </tr>\n",
       "    <tr>\n",
       "      <th>196</th>\n",
       "      <td>4556</td>\n",
       "      <td>0</td>\n",
       "    </tr>\n",
       "    <tr>\n",
       "      <th>197</th>\n",
       "      <td>4557</td>\n",
       "      <td>0</td>\n",
       "    </tr>\n",
       "    <tr>\n",
       "      <th>198</th>\n",
       "      <td>4558</td>\n",
       "      <td>0</td>\n",
       "    </tr>\n",
       "    <tr>\n",
       "      <th>199</th>\n",
       "      <td>4559</td>\n",
       "      <td>0</td>\n",
       "    </tr>\n",
       "  </tbody>\n",
       "</table>\n",
       "<p>200 rows × 2 columns</p>\n",
       "</div>"
      ],
      "text/plain": [
       "       id sex\n",
       "0    4360   1\n",
       "1    4361   1\n",
       "2    4362   1\n",
       "3    4363   1\n",
       "4    4364   1\n",
       "..    ...  ..\n",
       "195  4555   0\n",
       "196  4556   0\n",
       "197  4557   0\n",
       "198  4558   0\n",
       "199  4559   0\n",
       "\n",
       "[200 rows x 2 columns]"
      ]
     },
     "execution_count": 3,
     "metadata": {},
     "output_type": "execute_result"
    }
   ],
   "source": [
    "test_clean = pd.read_csv('boneage-test-dataset.csv')\n",
    "test_clean.rename(columns={'Case ID':'id'}, inplace=True)\n",
    "test_clean.rename(columns={'Sex':'sex'}, inplace=True)\n",
    "test_clean.loc[test_clean['sex'] == \"F\", 'sex'] = 0\n",
    "test_clean.loc[test_clean['sex'] == \"M\", 'sex'] = 1\n",
    "test_clean.dropna()\n",
    "test_clean"
   ]
  },
  {
   "cell_type": "code",
   "execution_count": 4,
   "metadata": {},
   "outputs": [
    {
     "data": {
      "text/html": [
       "<div>\n",
       "<style scoped>\n",
       "    .dataframe tbody tr th:only-of-type {\n",
       "        vertical-align: middle;\n",
       "    }\n",
       "\n",
       "    .dataframe tbody tr th {\n",
       "        vertical-align: top;\n",
       "    }\n",
       "\n",
       "    .dataframe thead th {\n",
       "        text-align: right;\n",
       "    }\n",
       "</style>\n",
       "<table border=\"1\" class=\"dataframe\">\n",
       "  <thead>\n",
       "    <tr style=\"text-align: right;\">\n",
       "      <th></th>\n",
       "      <th>id</th>\n",
       "      <th>sex</th>\n",
       "      <th>boneage</th>\n",
       "    </tr>\n",
       "  </thead>\n",
       "  <tbody>\n",
       "    <tr>\n",
       "      <th>0</th>\n",
       "      <td>1377</td>\n",
       "      <td>0.0</td>\n",
       "      <td>180</td>\n",
       "    </tr>\n",
       "    <tr>\n",
       "      <th>1</th>\n",
       "      <td>1378</td>\n",
       "      <td>0.0</td>\n",
       "      <td>12</td>\n",
       "    </tr>\n",
       "    <tr>\n",
       "      <th>2</th>\n",
       "      <td>1379</td>\n",
       "      <td>0.0</td>\n",
       "      <td>94</td>\n",
       "    </tr>\n",
       "    <tr>\n",
       "      <th>3</th>\n",
       "      <td>1380</td>\n",
       "      <td>1.0</td>\n",
       "      <td>120</td>\n",
       "    </tr>\n",
       "    <tr>\n",
       "      <th>4</th>\n",
       "      <td>1381</td>\n",
       "      <td>0.0</td>\n",
       "      <td>82</td>\n",
       "    </tr>\n",
       "    <tr>\n",
       "      <th>...</th>\n",
       "      <td>...</td>\n",
       "      <td>...</td>\n",
       "      <td>...</td>\n",
       "    </tr>\n",
       "    <tr>\n",
       "      <th>12606</th>\n",
       "      <td>15605</td>\n",
       "      <td>0.0</td>\n",
       "      <td>50</td>\n",
       "    </tr>\n",
       "    <tr>\n",
       "      <th>12607</th>\n",
       "      <td>15606</td>\n",
       "      <td>0.0</td>\n",
       "      <td>113</td>\n",
       "    </tr>\n",
       "    <tr>\n",
       "      <th>12608</th>\n",
       "      <td>15608</td>\n",
       "      <td>0.0</td>\n",
       "      <td>55</td>\n",
       "    </tr>\n",
       "    <tr>\n",
       "      <th>12609</th>\n",
       "      <td>15609</td>\n",
       "      <td>1.0</td>\n",
       "      <td>150</td>\n",
       "    </tr>\n",
       "    <tr>\n",
       "      <th>12610</th>\n",
       "      <td>15610</td>\n",
       "      <td>1.0</td>\n",
       "      <td>132</td>\n",
       "    </tr>\n",
       "  </tbody>\n",
       "</table>\n",
       "<p>12611 rows × 3 columns</p>\n",
       "</div>"
      ],
      "text/plain": [
       "          id  sex  boneage\n",
       "0       1377  0.0      180\n",
       "1       1378  0.0       12\n",
       "2       1379  0.0       94\n",
       "3       1380  1.0      120\n",
       "4       1381  0.0       82\n",
       "...      ...  ...      ...\n",
       "12606  15605  0.0       50\n",
       "12607  15606  0.0      113\n",
       "12608  15608  0.0       55\n",
       "12609  15609  1.0      150\n",
       "12610  15610  1.0      132\n",
       "\n",
       "[12611 rows x 3 columns]"
      ]
     },
     "execution_count": 4,
     "metadata": {},
     "output_type": "execute_result"
    }
   ],
   "source": [
    "train_clean = pd.read_csv('boneage-training-dataset.csv')\n",
    "train_clean = train_clean[['id','male','boneage']]\n",
    "\n",
    "train_clean.loc[train_clean['male'] == False, 'sex'] = 0\n",
    "train_clean.loc[train_clean['male'] == True, 'sex'] = 1\n",
    "train_clean = train_clean[['id','sex','boneage']]\n",
    "train_clean.dropna()\n",
    "train_clean"
   ]
  },
  {
   "cell_type": "markdown",
   "metadata": {},
   "source": [
    "> # EDA de datos"
   ]
  },
  {
   "cell_type": "code",
   "execution_count": 27,
   "metadata": {
    "scrolled": false
   },
   "outputs": [
    {
     "data": {
      "text/html": [
       "<div>\n",
       "<style scoped>\n",
       "    .dataframe tbody tr th:only-of-type {\n",
       "        vertical-align: middle;\n",
       "    }\n",
       "\n",
       "    .dataframe tbody tr th {\n",
       "        vertical-align: top;\n",
       "    }\n",
       "\n",
       "    .dataframe thead th {\n",
       "        text-align: right;\n",
       "    }\n",
       "</style>\n",
       "<table border=\"1\" class=\"dataframe\">\n",
       "  <thead>\n",
       "    <tr style=\"text-align: right;\">\n",
       "      <th></th>\n",
       "      <th>id</th>\n",
       "      <th>sex</th>\n",
       "      <th>boneage</th>\n",
       "    </tr>\n",
       "  </thead>\n",
       "  <tbody>\n",
       "    <tr>\n",
       "      <th>count</th>\n",
       "      <td>12611.000000</td>\n",
       "      <td>12611.000000</td>\n",
       "      <td>12611.000000</td>\n",
       "    </tr>\n",
       "    <tr>\n",
       "      <th>mean</th>\n",
       "      <td>8537.653001</td>\n",
       "      <td>0.541829</td>\n",
       "      <td>127.320752</td>\n",
       "    </tr>\n",
       "    <tr>\n",
       "      <th>std</th>\n",
       "      <td>4108.763993</td>\n",
       "      <td>0.498267</td>\n",
       "      <td>41.182021</td>\n",
       "    </tr>\n",
       "    <tr>\n",
       "      <th>min</th>\n",
       "      <td>1377.000000</td>\n",
       "      <td>0.000000</td>\n",
       "      <td>1.000000</td>\n",
       "    </tr>\n",
       "    <tr>\n",
       "      <th>25%</th>\n",
       "      <td>5074.500000</td>\n",
       "      <td>0.000000</td>\n",
       "      <td>96.000000</td>\n",
       "    </tr>\n",
       "    <tr>\n",
       "      <th>50%</th>\n",
       "      <td>8565.000000</td>\n",
       "      <td>1.000000</td>\n",
       "      <td>132.000000</td>\n",
       "    </tr>\n",
       "    <tr>\n",
       "      <th>75%</th>\n",
       "      <td>12091.500000</td>\n",
       "      <td>1.000000</td>\n",
       "      <td>156.000000</td>\n",
       "    </tr>\n",
       "    <tr>\n",
       "      <th>max</th>\n",
       "      <td>15610.000000</td>\n",
       "      <td>1.000000</td>\n",
       "      <td>228.000000</td>\n",
       "    </tr>\n",
       "  </tbody>\n",
       "</table>\n",
       "</div>"
      ],
      "text/plain": [
       "                 id           sex       boneage\n",
       "count  12611.000000  12611.000000  12611.000000\n",
       "mean    8537.653001      0.541829    127.320752\n",
       "std     4108.763993      0.498267     41.182021\n",
       "min     1377.000000      0.000000      1.000000\n",
       "25%     5074.500000      0.000000     96.000000\n",
       "50%     8565.000000      1.000000    132.000000\n",
       "75%    12091.500000      1.000000    156.000000\n",
       "max    15610.000000      1.000000    228.000000"
      ]
     },
     "execution_count": 27,
     "metadata": {},
     "output_type": "execute_result"
    }
   ],
   "source": [
    "train_clean.describe()"
   ]
  },
  {
   "cell_type": "code",
   "execution_count": 19,
   "metadata": {},
   "outputs": [],
   "source": []
  },
  {
   "cell_type": "code",
   "execution_count": 20,
   "metadata": {},
   "outputs": [
    {
     "data": {
      "text/plain": [
       "<AxesSubplot:xlabel='boneage'>"
      ]
     },
     "execution_count": 20,
     "metadata": {},
     "output_type": "execute_result"
    },
    {
     "data": {
      "image/png": "[encoded data removed]",
      "text/plain": [
       "<Figure size 1440x720 with 1 Axes>"
      ]
     },
     "metadata": {
      "needs_background": "light"
     },
     "output_type": "display_data"
    }
   ],
   "source": [
    "d = train_clean['boneage']\n",
    "plt.figure(figsize=(20,10))\n",
    "sns.distplot(d)"
   ]
  },
  {
   "cell_type": "code",
   "execution_count": 21,
   "metadata": {
    "scrolled": false
   },
   "outputs": [
    {
     "data": {
      "text/plain": [
       "<seaborn.axisgrid.JointGrid at 0xcdb070>"
      ]
     },
     "execution_count": 21,
     "metadata": {},
     "output_type": "execute_result"
    },
    {
     "data": {
      "image/png": "[encoded data removed]",
      "text/plain": [
       "<Figure size 576x576 with 3 Axes>"
      ]
     },
     "metadata": {
      "needs_background": "light"
     },
     "output_type": "display_data"
    }
   ],
   "source": [
    "sns.jointplot(x='sex', y='boneage',data=train_clean, kind=\"kde\",color='blue',height=8)"
   ]
  },
  {
   "cell_type": "code",
   "execution_count": 29,
   "metadata": {
    "scrolled": true
   },
   "outputs": [
    {
     "data": {
      "text/plain": [
       "[Text(0, 0, '0.0'), Text(1, 0, '1.0')]"
      ]
     },
     "execution_count": 29,
     "metadata": {},
     "output_type": "execute_result"
    },
    {
     "data": {
      "image/png": "[encoded data removed]",
      "text/plain": [
       "<Figure size 720x576 with 1 Axes>"
      ]
     },
     "metadata": {
      "needs_background": "light"
     },
     "output_type": "display_data"
    }
   ],
   "source": [
    "plt.figure(figsize=(10,8))\n",
    "chart = sns.countplot(x='sex',data=train_clean)\n",
    "chart.set_xticklabels(chart.get_xticklabels())"
   ]
  },
  {
   "cell_type": "code",
   "execution_count": 25,
   "metadata": {
    "scrolled": true
   },
   "outputs": [
    {
     "data": {
      "text/plain": [
       "[Text(0, 0, '1'),\n",
       " Text(1, 0, '4'),\n",
       " Text(2, 0, '6'),\n",
       " Text(3, 0, '9'),\n",
       " Text(4, 0, '10'),\n",
       " Text(5, 0, '12'),\n",
       " Text(6, 0, '13'),\n",
       " Text(7, 0, '14'),\n",
       " Text(8, 0, '15'),\n",
       " Text(9, 0, '16'),\n",
       " Text(10, 0, '17'),\n",
       " Text(11, 0, '18'),\n",
       " Text(12, 0, '20'),\n",
       " Text(13, 0, '21'),\n",
       " Text(14, 0, '24'),\n",
       " Text(15, 0, '27'),\n",
       " Text(16, 0, '28'),\n",
       " Text(17, 0, '29'),\n",
       " Text(18, 0, '30'),\n",
       " Text(19, 0, '32'),\n",
       " Text(20, 0, '33'),\n",
       " Text(21, 0, '34'),\n",
       " Text(22, 0, '36'),\n",
       " Text(23, 0, '37'),\n",
       " Text(24, 0, '38'),\n",
       " Text(25, 0, '39'),\n",
       " Text(26, 0, '40'),\n",
       " Text(27, 0, '42'),\n",
       " Text(28, 0, '43'),\n",
       " Text(29, 0, '45'),\n",
       " Text(30, 0, '46'),\n",
       " Text(31, 0, '48'),\n",
       " Text(32, 0, '49'),\n",
       " Text(33, 0, '50'),\n",
       " Text(34, 0, '51'),\n",
       " Text(35, 0, '52'),\n",
       " Text(36, 0, '54'),\n",
       " Text(37, 0, '55'),\n",
       " Text(38, 0, '56'),\n",
       " Text(39, 0, '57'),\n",
       " Text(40, 0, '58'),\n",
       " Text(41, 0, '60'),\n",
       " Text(42, 0, '62'),\n",
       " Text(43, 0, '63'),\n",
       " Text(44, 0, '64'),\n",
       " Text(45, 0, '65'),\n",
       " Text(46, 0, '66'),\n",
       " Text(47, 0, '67'),\n",
       " Text(48, 0, '69'),\n",
       " Text(49, 0, '70'),\n",
       " Text(50, 0, '72'),\n",
       " Text(51, 0, '74'),\n",
       " Text(52, 0, '75'),\n",
       " Text(53, 0, '76'),\n",
       " Text(54, 0, '77'),\n",
       " Text(55, 0, '78'),\n",
       " Text(56, 0, '80'),\n",
       " Text(57, 0, '81'),\n",
       " Text(58, 0, '82'),\n",
       " Text(59, 0, '84'),\n",
       " Text(60, 0, '86'),\n",
       " Text(61, 0, '87'),\n",
       " Text(62, 0, '88'),\n",
       " Text(63, 0, '90'),\n",
       " Text(64, 0, '91'),\n",
       " Text(65, 0, '93'),\n",
       " Text(66, 0, '94'),\n",
       " Text(67, 0, '96'),\n",
       " Text(68, 0, '100'),\n",
       " Text(69, 0, '101'),\n",
       " Text(70, 0, '102'),\n",
       " Text(71, 0, '103'),\n",
       " Text(72, 0, '104'),\n",
       " Text(73, 0, '105'),\n",
       " Text(74, 0, '106'),\n",
       " Text(75, 0, '107'),\n",
       " Text(76, 0, '108'),\n",
       " Text(77, 0, '109'),\n",
       " Text(78, 0, '110'),\n",
       " Text(79, 0, '111'),\n",
       " Text(80, 0, '112'),\n",
       " Text(81, 0, '113'),\n",
       " Text(82, 0, '114'),\n",
       " Text(83, 0, '115'),\n",
       " Text(84, 0, '116'),\n",
       " Text(85, 0, '117'),\n",
       " Text(86, 0, '118'),\n",
       " Text(87, 0, '120'),\n",
       " Text(88, 0, '121'),\n",
       " Text(89, 0, '123'),\n",
       " Text(90, 0, '124'),\n",
       " Text(91, 0, '125'),\n",
       " Text(92, 0, '126'),\n",
       " Text(93, 0, '128'),\n",
       " Text(94, 0, '129'),\n",
       " Text(95, 0, '130'),\n",
       " Text(96, 0, '132'),\n",
       " Text(97, 0, '133'),\n",
       " Text(98, 0, '134'),\n",
       " Text(99, 0, '135'),\n",
       " Text(100, 0, '136'),\n",
       " Text(101, 0, '137'),\n",
       " Text(102, 0, '138'),\n",
       " Text(103, 0, '139'),\n",
       " Text(104, 0, '140'),\n",
       " Text(105, 0, '141'),\n",
       " Text(106, 0, '142'),\n",
       " Text(107, 0, '143'),\n",
       " Text(108, 0, '144'),\n",
       " Text(109, 0, '146'),\n",
       " Text(110, 0, '147'),\n",
       " Text(111, 0, '148'),\n",
       " Text(112, 0, '149'),\n",
       " Text(113, 0, '150'),\n",
       " Text(114, 0, '151'),\n",
       " Text(115, 0, '152'),\n",
       " Text(116, 0, '153'),\n",
       " Text(117, 0, '154'),\n",
       " Text(118, 0, '156'),\n",
       " Text(119, 0, '158'),\n",
       " Text(120, 0, '159'),\n",
       " Text(121, 0, '160'),\n",
       " Text(122, 0, '161'),\n",
       " Text(123, 0, '162'),\n",
       " Text(124, 0, '163'),\n",
       " Text(125, 0, '164'),\n",
       " Text(126, 0, '165'),\n",
       " Text(127, 0, '166'),\n",
       " Text(128, 0, '167'),\n",
       " Text(129, 0, '168'),\n",
       " Text(130, 0, '169'),\n",
       " Text(131, 0, '170'),\n",
       " Text(132, 0, '171'),\n",
       " Text(133, 0, '172'),\n",
       " Text(134, 0, '173'),\n",
       " Text(135, 0, '174'),\n",
       " Text(136, 0, '176'),\n",
       " Text(137, 0, '177'),\n",
       " Text(138, 0, '179'),\n",
       " Text(139, 0, '180'),\n",
       " Text(140, 0, '182'),\n",
       " Text(141, 0, '183'),\n",
       " Text(142, 0, '184'),\n",
       " Text(143, 0, '186'),\n",
       " Text(144, 0, '188'),\n",
       " Text(145, 0, '189'),\n",
       " Text(146, 0, '192'),\n",
       " Text(147, 0, '194'),\n",
       " Text(148, 0, '196'),\n",
       " Text(149, 0, '197'),\n",
       " Text(150, 0, '198'),\n",
       " Text(151, 0, '200'),\n",
       " Text(152, 0, '204'),\n",
       " Text(153, 0, '206'),\n",
       " Text(154, 0, '210'),\n",
       " Text(155, 0, '212'),\n",
       " Text(156, 0, '214'),\n",
       " Text(157, 0, '216'),\n",
       " Text(158, 0, '222'),\n",
       " Text(159, 0, '228')]"
      ]
     },
     "execution_count": 25,
     "metadata": {},
     "output_type": "execute_result"
    },
    {
     "data": {
      "image/png": "[encoded data removed]",
      "text/plain": [
       "<Figure size 1800x576 with 1 Axes>"
      ]
     },
     "metadata": {
      "needs_background": "light"
     },
     "output_type": "display_data"
    }
   ],
   "source": [
    "plt.figure(figsize=(25,8))\n",
    "chart = sns.countplot(x='boneage',data=train_clean)\n",
    "chart.set_xticklabels(chart.get_xticklabels(), rotation=90)\n"
   ]
  },
  {
   "cell_type": "markdown",
   "metadata": {},
   "source": [
    "> # EDA de imagenes"
   ]
  },
  {
   "cell_type": "code",
   "execution_count": 8,
   "metadata": {},
   "outputs": [],
   "source": []
  },
  {
   "cell_type": "code",
   "execution_count": null,
   "metadata": {},
   "outputs": [],
   "source": []
  }
 ],
 "metadata": {
  "kernelspec": {
   "display_name": "Python 3",
   "language": "python",
   "name": "python3"
  },
  "language_info": {
   "codemirror_mode": {
    "name": "ipython",
    "version": 3
   },
   "file_extension": ".py",
   "mimetype": "text/x-python",
   "name": "python",
   "nbconvert_exporter": "python",
   "pygments_lexer": "ipython3",
   "version": "3.8.3"
  }
 },
 "nbformat": 4,
 "nbformat_minor": 4
}
