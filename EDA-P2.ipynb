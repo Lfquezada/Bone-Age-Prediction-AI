{
 "cells": [
  {
   "cell_type": "markdown",
   "metadata": {},
   "source": [
    "# Universidad del Valle de Guatemala\n",
    "# Data Science \n",
    "# Proyecto 2\n",
    "> ### Jennifer Sandoval 18962\n",
    "> ### Luis Quezada 18028\n",
    "> ### Esteban del Valle 18221"
   ]
  },
  {
   "cell_type": "code",
   "execution_count": 1,
   "metadata": {},
   "outputs": [],
   "source": [
    "import numpy as np\n",
    "import matplotlib.pyplot as plt\n",
    "import pandas as pd\n",
    "import seaborn as sns\n",
    "from basic_image_eda import BasicImageEDA"
   ]
  },
  {
   "cell_type": "markdown",
   "metadata": {},
   "source": [
    "> # Limpieza de Datos"
   ]
  },
  {
   "cell_type": "code",
   "execution_count": 2,
   "metadata": {},
   "outputs": [
    {
     "data": {
      "text/html": [
       "<div>\n",
       "<style scoped>\n",
       "    .dataframe tbody tr th:only-of-type {\n",
       "        vertical-align: middle;\n",
       "    }\n",
       "\n",
       "    .dataframe tbody tr th {\n",
       "        vertical-align: top;\n",
       "    }\n",
       "\n",
       "    .dataframe thead th {\n",
       "        text-align: right;\n",
       "    }\n",
       "</style>\n",
       "<table border=\"1\" class=\"dataframe\">\n",
       "  <thead>\n",
       "    <tr style=\"text-align: right;\">\n",
       "      <th></th>\n",
       "      <th>id</th>\n",
       "      <th>sex</th>\n",
       "    </tr>\n",
       "  </thead>\n",
       "  <tbody>\n",
       "    <tr>\n",
       "      <th>0</th>\n",
       "      <td>4360</td>\n",
       "      <td>1</td>\n",
       "    </tr>\n",
       "    <tr>\n",
       "      <th>1</th>\n",
       "      <td>4361</td>\n",
       "      <td>1</td>\n",
       "    </tr>\n",
       "    <tr>\n",
       "      <th>2</th>\n",
       "      <td>4362</td>\n",
       "      <td>1</td>\n",
       "    </tr>\n",
       "    <tr>\n",
       "      <th>3</th>\n",
       "      <td>4363</td>\n",
       "      <td>1</td>\n",
       "    </tr>\n",
       "    <tr>\n",
       "      <th>4</th>\n",
       "      <td>4364</td>\n",
       "      <td>1</td>\n",
       "    </tr>\n",
       "    <tr>\n",
       "      <th>...</th>\n",
       "      <td>...</td>\n",
       "      <td>...</td>\n",
       "    </tr>\n",
       "    <tr>\n",
       "      <th>195</th>\n",
       "      <td>4555</td>\n",
       "      <td>0</td>\n",
       "    </tr>\n",
       "    <tr>\n",
       "      <th>196</th>\n",
       "      <td>4556</td>\n",
       "      <td>0</td>\n",
       "    </tr>\n",
       "    <tr>\n",
       "      <th>197</th>\n",
       "      <td>4557</td>\n",
       "      <td>0</td>\n",
       "    </tr>\n",
       "    <tr>\n",
       "      <th>198</th>\n",
       "      <td>4558</td>\n",
       "      <td>0</td>\n",
       "    </tr>\n",
       "    <tr>\n",
       "      <th>199</th>\n",
       "      <td>4559</td>\n",
       "      <td>0</td>\n",
       "    </tr>\n",
       "  </tbody>\n",
       "</table>\n",
       "<p>200 rows × 2 columns</p>\n",
       "</div>"
      ],
      "text/plain": [
       "       id sex\n",
       "0    4360   1\n",
       "1    4361   1\n",
       "2    4362   1\n",
       "3    4363   1\n",
       "4    4364   1\n",
       "..    ...  ..\n",
       "195  4555   0\n",
       "196  4556   0\n",
       "197  4557   0\n",
       "198  4558   0\n",
       "199  4559   0\n",
       "\n",
       "[200 rows x 2 columns]"
      ]
     },
     "execution_count": 2,
     "metadata": {},
     "output_type": "execute_result"
    }
   ],
   "source": [
    "test_clean = pd.read_csv('boneage-test-dataset.csv')\n",
    "test_clean.rename(columns={'Case ID':'id'}, inplace=True)\n",
    "test_clean.rename(columns={'Sex':'sex'}, inplace=True)\n",
    "test_clean.loc[test_clean['sex'] == \"F\", 'sex'] = 0\n",
    "test_clean.loc[test_clean['sex'] == \"M\", 'sex'] = 1\n",
    "test_clean.dropna()\n",
    "test_clean"
   ]
  },
  {
   "cell_type": "code",
   "execution_count": 3,
   "metadata": {},
   "outputs": [
    {
     "data": {
      "text/html": [
       "<div>\n",
       "<style scoped>\n",
       "    .dataframe tbody tr th:only-of-type {\n",
       "        vertical-align: middle;\n",
       "    }\n",
       "\n",
       "    .dataframe tbody tr th {\n",
       "        vertical-align: top;\n",
       "    }\n",
       "\n",
       "    .dataframe thead th {\n",
       "        text-align: right;\n",
       "    }\n",
       "</style>\n",
       "<table border=\"1\" class=\"dataframe\">\n",
       "  <thead>\n",
       "    <tr style=\"text-align: right;\">\n",
       "      <th></th>\n",
       "      <th>id</th>\n",
       "      <th>sex</th>\n",
       "      <th>boneage</th>\n",
       "    </tr>\n",
       "  </thead>\n",
       "  <tbody>\n",
       "    <tr>\n",
       "      <th>0</th>\n",
       "      <td>1377</td>\n",
       "      <td>0.0</td>\n",
       "      <td>180</td>\n",
       "    </tr>\n",
       "    <tr>\n",
       "      <th>1</th>\n",
       "      <td>1378</td>\n",
       "      <td>0.0</td>\n",
       "      <td>12</td>\n",
       "    </tr>\n",
       "    <tr>\n",
       "      <th>2</th>\n",
       "      <td>1379</td>\n",
       "      <td>0.0</td>\n",
       "      <td>94</td>\n",
       "    </tr>\n",
       "    <tr>\n",
       "      <th>3</th>\n",
       "      <td>1380</td>\n",
       "      <td>1.0</td>\n",
       "      <td>120</td>\n",
       "    </tr>\n",
       "    <tr>\n",
       "      <th>4</th>\n",
       "      <td>1381</td>\n",
       "      <td>0.0</td>\n",
       "      <td>82</td>\n",
       "    </tr>\n",
       "    <tr>\n",
       "      <th>...</th>\n",
       "      <td>...</td>\n",
       "      <td>...</td>\n",
       "      <td>...</td>\n",
       "    </tr>\n",
       "    <tr>\n",
       "      <th>12606</th>\n",
       "      <td>15605</td>\n",
       "      <td>0.0</td>\n",
       "      <td>50</td>\n",
       "    </tr>\n",
       "    <tr>\n",
       "      <th>12607</th>\n",
       "      <td>15606</td>\n",
       "      <td>0.0</td>\n",
       "      <td>113</td>\n",
       "    </tr>\n",
       "    <tr>\n",
       "      <th>12608</th>\n",
       "      <td>15608</td>\n",
       "      <td>0.0</td>\n",
       "      <td>55</td>\n",
       "    </tr>\n",
       "    <tr>\n",
       "      <th>12609</th>\n",
       "      <td>15609</td>\n",
       "      <td>1.0</td>\n",
       "      <td>150</td>\n",
       "    </tr>\n",
       "    <tr>\n",
       "      <th>12610</th>\n",
       "      <td>15610</td>\n",
       "      <td>1.0</td>\n",
       "      <td>132</td>\n",
       "    </tr>\n",
       "  </tbody>\n",
       "</table>\n",
       "<p>12611 rows × 3 columns</p>\n",
       "</div>"
      ],
      "text/plain": [
       "          id  sex  boneage\n",
       "0       1377  0.0      180\n",
       "1       1378  0.0       12\n",
       "2       1379  0.0       94\n",
       "3       1380  1.0      120\n",
       "4       1381  0.0       82\n",
       "...      ...  ...      ...\n",
       "12606  15605  0.0       50\n",
       "12607  15606  0.0      113\n",
       "12608  15608  0.0       55\n",
       "12609  15609  1.0      150\n",
       "12610  15610  1.0      132\n",
       "\n",
       "[12611 rows x 3 columns]"
      ]
     },
     "execution_count": 3,
     "metadata": {},
     "output_type": "execute_result"
    }
   ],
   "source": [
    "train_clean = pd.read_csv('boneage-training-dataset.csv')\n",
    "train_clean = train_clean[['id','male','boneage']]\n",
    "\n",
    "train_clean.loc[train_clean['male'] == False, 'sex'] = 0\n",
    "train_clean.loc[train_clean['male'] == True, 'sex'] = 1\n",
    "train_clean = train_clean[['id','sex','boneage']]\n",
    "train_clean.dropna()\n",
    "train_clean"
   ]
  },
  {
   "cell_type": "markdown",
   "metadata": {},
   "source": [
    "> # EDA de datos"
   ]
  },
  {
   "cell_type": "code",
   "execution_count": 4,
   "metadata": {
    "scrolled": false
   },
   "outputs": [
    {
     "data": {
      "text/html": [
       "<div>\n",
       "<style scoped>\n",
       "    .dataframe tbody tr th:only-of-type {\n",
       "        vertical-align: middle;\n",
       "    }\n",
       "\n",
       "    .dataframe tbody tr th {\n",
       "        vertical-align: top;\n",
       "    }\n",
       "\n",
       "    .dataframe thead th {\n",
       "        text-align: right;\n",
       "    }\n",
       "</style>\n",
       "<table border=\"1\" class=\"dataframe\">\n",
       "  <thead>\n",
       "    <tr style=\"text-align: right;\">\n",
       "      <th></th>\n",
       "      <th>id</th>\n",
       "      <th>sex</th>\n",
       "      <th>boneage</th>\n",
       "    </tr>\n",
       "  </thead>\n",
       "  <tbody>\n",
       "    <tr>\n",
       "      <th>count</th>\n",
       "      <td>12611.000000</td>\n",
       "      <td>12611.000000</td>\n",
       "      <td>12611.000000</td>\n",
       "    </tr>\n",
       "    <tr>\n",
       "      <th>mean</th>\n",
       "      <td>8537.653001</td>\n",
       "      <td>0.541829</td>\n",
       "      <td>127.320752</td>\n",
       "    </tr>\n",
       "    <tr>\n",
       "      <th>std</th>\n",
       "      <td>4108.763993</td>\n",
       "      <td>0.498267</td>\n",
       "      <td>41.182021</td>\n",
       "    </tr>\n",
       "    <tr>\n",
       "      <th>min</th>\n",
       "      <td>1377.000000</td>\n",
       "      <td>0.000000</td>\n",
       "      <td>1.000000</td>\n",
       "    </tr>\n",
       "    <tr>\n",
       "      <th>25%</th>\n",
       "      <td>5074.500000</td>\n",
       "      <td>0.000000</td>\n",
       "      <td>96.000000</td>\n",
       "    </tr>\n",
       "    <tr>\n",
       "      <th>50%</th>\n",
       "      <td>8565.000000</td>\n",
       "      <td>1.000000</td>\n",
       "      <td>132.000000</td>\n",
       "    </tr>\n",
       "    <tr>\n",
       "      <th>75%</th>\n",
       "      <td>12091.500000</td>\n",
       "      <td>1.000000</td>\n",
       "      <td>156.000000</td>\n",
       "    </tr>\n",
       "    <tr>\n",
       "      <th>max</th>\n",
       "      <td>15610.000000</td>\n",
       "      <td>1.000000</td>\n",
       "      <td>228.000000</td>\n",
       "    </tr>\n",
       "  </tbody>\n",
       "</table>\n",
       "</div>"
      ],
      "text/plain": [
       "                 id           sex       boneage\n",
       "count  12611.000000  12611.000000  12611.000000\n",
       "mean    8537.653001      0.541829    127.320752\n",
       "std     4108.763993      0.498267     41.182021\n",
       "min     1377.000000      0.000000      1.000000\n",
       "25%     5074.500000      0.000000     96.000000\n",
       "50%     8565.000000      1.000000    132.000000\n",
       "75%    12091.500000      1.000000    156.000000\n",
       "max    15610.000000      1.000000    228.000000"
      ]
     },
     "execution_count": 4,
     "metadata": {},
     "output_type": "execute_result"
    }
   ],
   "source": [
    "train_clean.describe()"
   ]
  },
  {
   "cell_type": "code",
   "execution_count": 5,
   "metadata": {},
   "outputs": [
    {
     "data": {
      "text/plain": [
       "<matplotlib.axes._subplots.AxesSubplot at 0x14a9a6eb0>"
      ]
     },
     "execution_count": 5,
     "metadata": {},
     "output_type": "execute_result"
    },
    {
     "data": {
      "image/png": "[encoded data removed]",
      "text/plain": [
       "<Figure size 1440x720 with 1 Axes>"
      ]
     },
     "metadata": {
      "needs_background": "light"
     },
     "output_type": "display_data"
    }
   ],
   "source": [
    "d = train_clean['boneage']\n",
    "plt.figure(figsize=(20,10))\n",
    "sns.distplot(d)"
   ]
  },
  {
   "cell_type": "code",
   "execution_count": 6,
   "metadata": {
    "scrolled": false
   },
   "outputs": [
    {
     "data": {
      "text/plain": [
       "<seaborn.axisgrid.JointGrid at 0x10f8c5940>"
      ]
     },
     "execution_count": 6,
     "metadata": {},
     "output_type": "execute_result"
    },
    {
     "data": {
      "image/png": "[encoded data removed]",
      "text/plain": [
       "<Figure size 576x576 with 3 Axes>"
      ]
     },
     "metadata": {
      "needs_background": "light"
     },
     "output_type": "display_data"
    }
   ],
   "source": [
    "sns.jointplot(x='sex', y='boneage',data=train_clean, kind=\"kde\",color='blue',height=8)"
   ]
  },
  {
   "cell_type": "code",
   "execution_count": 7,
   "metadata": {
    "scrolled": false
   },
   "outputs": [
    {
     "data": {
      "text/plain": [
       "[Text(0, 0, '0.0'), Text(0, 0, '1.0')]"
      ]
     },
     "execution_count": 7,
     "metadata": {},
     "output_type": "execute_result"
    },
    {
     "data": {
      "image/png": "[encoded data removed]",
      "text/plain": [
       "<Figure size 720x576 with 1 Axes>"
      ]
     },
     "metadata": {
      "needs_background": "light"
     },
     "output_type": "display_data"
    }
   ],
   "source": [
    "plt.figure(figsize=(10,8))\n",
    "chart = sns.countplot(x='sex',data=train_clean)\n",
    "chart.set_xticklabels(chart.get_xticklabels())"
   ]
  },
  {
   "cell_type": "code",
   "execution_count": 8,
   "metadata": {
    "scrolled": true
   },
   "outputs": [
    {
     "data": {
      "text/plain": [
       "[Text(0, 0, '1'),\n",
       " Text(0, 0, '4'),\n",
       " Text(0, 0, '6'),\n",
       " Text(0, 0, '9'),\n",
       " Text(0, 0, '10'),\n",
       " Text(0, 0, '12'),\n",
       " Text(0, 0, '13'),\n",
       " Text(0, 0, '14'),\n",
       " Text(0, 0, '15'),\n",
       " Text(0, 0, '16'),\n",
       " Text(0, 0, '17'),\n",
       " Text(0, 0, '18'),\n",
       " Text(0, 0, '20'),\n",
       " Text(0, 0, '21'),\n",
       " Text(0, 0, '24'),\n",
       " Text(0, 0, '27'),\n",
       " Text(0, 0, '28'),\n",
       " Text(0, 0, '29'),\n",
       " Text(0, 0, '30'),\n",
       " Text(0, 0, '32'),\n",
       " Text(0, 0, '33'),\n",
       " Text(0, 0, '34'),\n",
       " Text(0, 0, '36'),\n",
       " Text(0, 0, '37'),\n",
       " Text(0, 0, '38'),\n",
       " Text(0, 0, '39'),\n",
       " Text(0, 0, '40'),\n",
       " Text(0, 0, '42'),\n",
       " Text(0, 0, '43'),\n",
       " Text(0, 0, '45'),\n",
       " Text(0, 0, '46'),\n",
       " Text(0, 0, '48'),\n",
       " Text(0, 0, '49'),\n",
       " Text(0, 0, '50'),\n",
       " Text(0, 0, '51'),\n",
       " Text(0, 0, '52'),\n",
       " Text(0, 0, '54'),\n",
       " Text(0, 0, '55'),\n",
       " Text(0, 0, '56'),\n",
       " Text(0, 0, '57'),\n",
       " Text(0, 0, '58'),\n",
       " Text(0, 0, '60'),\n",
       " Text(0, 0, '62'),\n",
       " Text(0, 0, '63'),\n",
       " Text(0, 0, '64'),\n",
       " Text(0, 0, '65'),\n",
       " Text(0, 0, '66'),\n",
       " Text(0, 0, '67'),\n",
       " Text(0, 0, '69'),\n",
       " Text(0, 0, '70'),\n",
       " Text(0, 0, '72'),\n",
       " Text(0, 0, '74'),\n",
       " Text(0, 0, '75'),\n",
       " Text(0, 0, '76'),\n",
       " Text(0, 0, '77'),\n",
       " Text(0, 0, '78'),\n",
       " Text(0, 0, '80'),\n",
       " Text(0, 0, '81'),\n",
       " Text(0, 0, '82'),\n",
       " Text(0, 0, '84'),\n",
       " Text(0, 0, '86'),\n",
       " Text(0, 0, '87'),\n",
       " Text(0, 0, '88'),\n",
       " Text(0, 0, '90'),\n",
       " Text(0, 0, '91'),\n",
       " Text(0, 0, '93'),\n",
       " Text(0, 0, '94'),\n",
       " Text(0, 0, '96'),\n",
       " Text(0, 0, '100'),\n",
       " Text(0, 0, '101'),\n",
       " Text(0, 0, '102'),\n",
       " Text(0, 0, '103'),\n",
       " Text(0, 0, '104'),\n",
       " Text(0, 0, '105'),\n",
       " Text(0, 0, '106'),\n",
       " Text(0, 0, '107'),\n",
       " Text(0, 0, '108'),\n",
       " Text(0, 0, '109'),\n",
       " Text(0, 0, '110'),\n",
       " Text(0, 0, '111'),\n",
       " Text(0, 0, '112'),\n",
       " Text(0, 0, '113'),\n",
       " Text(0, 0, '114'),\n",
       " Text(0, 0, '115'),\n",
       " Text(0, 0, '116'),\n",
       " Text(0, 0, '117'),\n",
       " Text(0, 0, '118'),\n",
       " Text(0, 0, '120'),\n",
       " Text(0, 0, '121'),\n",
       " Text(0, 0, '123'),\n",
       " Text(0, 0, '124'),\n",
       " Text(0, 0, '125'),\n",
       " Text(0, 0, '126'),\n",
       " Text(0, 0, '128'),\n",
       " Text(0, 0, '129'),\n",
       " Text(0, 0, '130'),\n",
       " Text(0, 0, '132'),\n",
       " Text(0, 0, '133'),\n",
       " Text(0, 0, '134'),\n",
       " Text(0, 0, '135'),\n",
       " Text(0, 0, '136'),\n",
       " Text(0, 0, '137'),\n",
       " Text(0, 0, '138'),\n",
       " Text(0, 0, '139'),\n",
       " Text(0, 0, '140'),\n",
       " Text(0, 0, '141'),\n",
       " Text(0, 0, '142'),\n",
       " Text(0, 0, '143'),\n",
       " Text(0, 0, '144'),\n",
       " Text(0, 0, '146'),\n",
       " Text(0, 0, '147'),\n",
       " Text(0, 0, '148'),\n",
       " Text(0, 0, '149'),\n",
       " Text(0, 0, '150'),\n",
       " Text(0, 0, '151'),\n",
       " Text(0, 0, '152'),\n",
       " Text(0, 0, '153'),\n",
       " Text(0, 0, '154'),\n",
       " Text(0, 0, '156'),\n",
       " Text(0, 0, '158'),\n",
       " Text(0, 0, '159'),\n",
       " Text(0, 0, '160'),\n",
       " Text(0, 0, '161'),\n",
       " Text(0, 0, '162'),\n",
       " Text(0, 0, '163'),\n",
       " Text(0, 0, '164'),\n",
       " Text(0, 0, '165'),\n",
       " Text(0, 0, '166'),\n",
       " Text(0, 0, '167'),\n",
       " Text(0, 0, '168'),\n",
       " Text(0, 0, '169'),\n",
       " Text(0, 0, '170'),\n",
       " Text(0, 0, '171'),\n",
       " Text(0, 0, '172'),\n",
       " Text(0, 0, '173'),\n",
       " Text(0, 0, '174'),\n",
       " Text(0, 0, '176'),\n",
       " Text(0, 0, '177'),\n",
       " Text(0, 0, '179'),\n",
       " Text(0, 0, '180'),\n",
       " Text(0, 0, '182'),\n",
       " Text(0, 0, '183'),\n",
       " Text(0, 0, '184'),\n",
       " Text(0, 0, '186'),\n",
       " Text(0, 0, '188'),\n",
       " Text(0, 0, '189'),\n",
       " Text(0, 0, '192'),\n",
       " Text(0, 0, '194'),\n",
       " Text(0, 0, '196'),\n",
       " Text(0, 0, '197'),\n",
       " Text(0, 0, '198'),\n",
       " Text(0, 0, '200'),\n",
       " Text(0, 0, '204'),\n",
       " Text(0, 0, '206'),\n",
       " Text(0, 0, '210'),\n",
       " Text(0, 0, '212'),\n",
       " Text(0, 0, '214'),\n",
       " Text(0, 0, '216'),\n",
       " Text(0, 0, '222'),\n",
       " Text(0, 0, '228')]"
      ]
     },
     "execution_count": 8,
     "metadata": {},
     "output_type": "execute_result"
    },
    {
     "data": {
      "image/png": "[encoded data removed]",
      "text/plain": [
       "<Figure size 1800x576 with 1 Axes>"
      ]
     },
     "metadata": {
      "needs_background": "light"
     },
     "output_type": "display_data"
    }
   ],
   "source": [
    "plt.figure(figsize=(25,8))\n",
    "chart = sns.countplot(x='boneage',data=train_clean)\n",
    "chart.set_xticklabels(chart.get_xticklabels(), rotation=90)\n"
   ]
  },
  {
   "cell_type": "markdown",
   "metadata": {},
   "source": [
    "> # EDA de imagenes"
   ]
  },
  {
   "cell_type": "markdown",
   "metadata": {},
   "source": [
    "#### Para llevar a cabo el analisis exploratorio de imagenes se utilizó una herramienta (basic-image-eda) que permite el análisis de las caracteristicas principales de las imágenes. (S. Yang, P. Luo, C. C. Loy y  X. Tang, 2015)."
   ]
  },
  {
   "cell_type": "code",
   "execution_count": 10,
   "metadata": {
    "scrolled": false
   },
   "outputs": [
    {
     "name": "stderr",
     "output_type": "stream",
     "text": [
      "\r",
      "  0%|                                                                                        | 0/12611 [00:00<?, ?it/s]"
     ]
    },
    {
     "name": "stdout",
     "output_type": "stream",
     "text": [
      "\n",
      "found 12611 images.\n",
      "Using 8 threads. (max:8)\n",
      "\n"
     ]
    },
    {
     "name": "stderr",
     "output_type": "stream",
     "text": [
      "100%|████████████████████████████████████████████████████████████████████████████| 12611/12611 [07:23<00:00, 28.44it/s]\n"
     ]
    },
    {
     "name": "stdout",
     "output_type": "stream",
     "text": [
      "\n",
      "*--------------------------------------------------------------------------------------*\n",
      "number of images                         |  12611\n",
      "\n",
      "dtype                                    |  uint8\n",
      "channels                                 |  [1]\n",
      "extensions                               |  ['png']\n",
      "\n",
      "min height                               |  640\n",
      "max height                               |  2989\n",
      "mean height                              |  1664.247878835937\n",
      "median height                            |  1624\n",
      "\n",
      "min width                                |  521\n",
      "max width                                |  3001\n",
      "mean width                               |  1319.3485052731742\n",
      "median width                             |  1277\n",
      "\n",
      "mean height/width ratio                  |  1.2614164280205484\n",
      "median height/width ratio                |  1.2717306186374315\n",
      "recommended input size(by mean)          |  [1664 1320] (h x w, multiples of 8)\n",
      "recommended input size(by mean)          |  [1664 1312] (h x w, multiples of 16)\n",
      "recommended input size(by mean)          |  [1664 1312] (h x w, multiples of 32)\n",
      "\n",
      "channel mean(0~1)                        |  0.18266279810284672\n",
      "channel std(0~1)                         |  0.1951994388377542\n",
      "*--------------------------------------------------------------------------------------*\n",
      "eda ended in 00 hours 07 minutes 25 seconds\n"
     ]
    },
    {
     "name": "stderr",
     "output_type": "stream",
     "text": [
      "\r",
      "  0%|                                                                                        | 0/12611 [00:00<?, ?it/s]"
     ]
    },
    {
     "name": "stdout",
     "output_type": "stream",
     "text": [
      "\n",
      "found 12611 images.\n",
      "Using 8 threads. (max:8)\n",
      "\n"
     ]
    },
    {
     "name": "stderr",
     "output_type": "stream",
     "text": [
      "100%|████████████████████████████████████████████████████████████████████████████| 12611/12611 [10:00<00:00, 21.02it/s]\n"
     ]
    },
    {
     "name": "stdout",
     "output_type": "stream",
     "text": [
      "\n",
      "*--------------------------------------------------------------------------------------*\n",
      "number of images                         |  12611\n",
      "\n",
      "dtype                                    |  uint8\n",
      "channels                                 |  [1]\n",
      "extensions                               |  ['png']\n",
      "\n",
      "min height                               |  640\n",
      "max height                               |  2989\n",
      "mean height                              |  1664.247878835937\n",
      "median height                            |  1624\n",
      "\n",
      "min width                                |  521\n",
      "max width                                |  3001\n",
      "mean width                               |  1319.3485052731742\n",
      "median width                             |  1277\n",
      "\n",
      "mean height/width ratio                  |  1.2614164280205484\n",
      "median height/width ratio                |  1.2717306186374315\n",
      "recommended input size(by mean)          |  [1664 1320] (h x w, multiples of 8)\n",
      "recommended input size(by mean)          |  [1664 1312] (h x w, multiples of 16)\n",
      "recommended input size(by mean)          |  [1664 1312] (h x w, multiples of 32)\n",
      "\n",
      "channel mean(0~1)                        |  0.18266279810284672\n",
      "channel std(0~1)                         |  0.1951994388377542\n",
      "*--------------------------------------------------------------------------------------*\n",
      "eda ended in 00 hours 10 minutes 01 seconds\n"
     ]
    },
    {
     "data": {
      "image/png": "[encoded data removed]",
      "text/plain": [
       "<Figure size 576x432 with 1 Axes>"
      ]
     },
     "metadata": {
      "needs_background": "light"
     },
     "output_type": "display_data"
    },
    {
     "data": {
      "image/png": "[encoded data removed]",
      "text/plain": [
       "<Figure size 720x432 with 2 Axes>"
      ]
     },
     "metadata": {
      "needs_background": "light"
     },
     "output_type": "display_data"
    }
   ],
   "source": [
    "\n",
    "if __name__ == \"__main__\":  # for multiprocessing\n",
    "    data_dir = \"boneage-training-dataset\"\n",
    "    BasicImageEDA.explore(data_dir)\n",
    "\n",
    "    # or\n",
    "\n",
    "    extensions = ['png']\n",
    "    threads = 0\n",
    "    dimension_plot = True\n",
    "    channel_hist = True\n",
    "    nonzero = False\n",
    "    hw_division_factor = 1.0\n",
    "\n",
    "    BasicImageEDA.explore(data_dir, extensions, threads, dimension_plot, channel_hist, nonzero, hw_division_factor)"
   ]
  },
  {
   "cell_type": "markdown",
   "metadata": {},
   "source": [
    "> # Predicción de Boneage con CNN"
   ]
  },
  {
   "cell_type": "code",
   "execution_count": 104,
   "metadata": {},
   "outputs": [],
   "source": [
    "import keras\n",
    "from keras.models import Sequential\n",
    "from keras.layers import Dense, Dropout, Flatten\n",
    "from keras.layers import Conv2D, MaxPooling2D\n",
    "from keras.utils import to_categorical\n",
    "from keras.preprocessing import image\n",
    "from sklearn.model_selection import train_test_split\n",
    "from keras.utils import to_categorical\n",
    "from tqdm import tqdm\n",
    "from keras import regularizers"
   ]
  },
  {
   "cell_type": "code",
   "execution_count": 127,
   "metadata": {},
   "outputs": [
    {
     "name": "stderr",
     "output_type": "stream",
     "text": [
      "100%|██████████| 200/200 [00:08<00:00, 24.55it/s]\n"
     ]
    }
   ],
   "source": [
    "train = train_clean[:5000]\n",
    "train_image = []\n",
    "for i in tqdm(range(train.shape[0])):\n",
    "    img = image.load_img('boneage-training-dataset/boneage-training-dataset/'+ str(train['id'][i])+'.png', target_size=(128,128,1), color_mode='grayscale',)\n",
    "    img = image.img_to_array(img)\n",
    "    img = img/255\n",
    "    train_image.append(img)\n",
    "X = np.array(train_image)"
   ]
  },
  {
   "cell_type": "code",
   "execution_count": 128,
   "metadata": {},
   "outputs": [
    {
     "data": {
      "image/png": "[encoded data removed]",
      "text/plain": [
       "<Figure size 432x288 with 1 Axes>"
      ]
     },
     "metadata": {
      "needs_background": "light"
     },
     "output_type": "display_data"
    }
   ],
   "source": [
    "pixels = X[3].reshape((128,128))\n",
    "plt.imshow(pixels, cmap='gray')\n",
    "plt.show()"
   ]
  },
  {
   "cell_type": "code",
   "execution_count": 129,
   "metadata": {},
   "outputs": [
    {
     "data": {
      "text/plain": [
       "(200,)"
      ]
     },
     "execution_count": 129,
     "metadata": {},
     "output_type": "execute_result"
    }
   ],
   "source": [
    "y = train['boneage'].values\n",
    "#y = to_categorical(y)\n",
    "y.shape"
   ]
  },
  {
   "cell_type": "code",
   "execution_count": 130,
   "metadata": {},
   "outputs": [],
   "source": [
    "X_train, X_test, y_train, y_test = train_test_split(X, y, random_state=42, test_size=0.2)"
   ]
  },
  {
   "cell_type": "code",
   "execution_count": 131,
   "metadata": {},
   "outputs": [],
   "source": [
    "model = Sequential()\n",
    "model.add(Conv2D(32, kernel_size=(3, 3),activation='relu',input_shape=(128,128,1)))\n",
    "model.add(Conv2D(64, (3, 3), activation='relu'))\n",
    "model.add(MaxPooling2D(pool_size=(2, 2)))\n",
    "model.add(Dropout(0.3))\n",
    "model.add(Flatten())\n",
    "model.add(Dense(200, activation='relu'))\n",
    "model.add(Dense(200, activation='relu'))\n",
    "model.add(Dropout(0.5))\n",
    "model.add(Dense(1))"
   ]
  },
  {
   "cell_type": "code",
   "execution_count": 132,
   "metadata": {},
   "outputs": [
    {
     "name": "stdout",
     "output_type": "stream",
     "text": [
      "Epoch 1/20\n",
      "5/5 [==============================] - 3s 656ms/step - loss: 8620.2158 - val_loss: 4196.1167\n",
      "Epoch 2/20\n",
      "5/5 [==============================] - 3s 587ms/step - loss: 5096.0986 - val_loss: 3636.2983\n",
      "Epoch 3/20\n",
      "5/5 [==============================] - 3s 571ms/step - loss: 4003.5828 - val_loss: 2752.9092\n",
      "Epoch 4/20\n",
      "5/5 [==============================] - 3s 595ms/step - loss: 3188.3079 - val_loss: 2423.7581\n",
      "Epoch 5/20\n",
      "5/5 [==============================] - 3s 610ms/step - loss: 3242.9910 - val_loss: 2255.7485\n",
      "Epoch 6/20\n",
      "5/5 [==============================] - 3s 617ms/step - loss: 2875.0879 - val_loss: 2149.5181\n",
      "Epoch 7/20\n",
      "5/5 [==============================] - 4s 774ms/step - loss: 2384.3794 - val_loss: 2058.3738\n",
      "Epoch 8/20\n",
      "5/5 [==============================] - 3s 678ms/step - loss: 2597.1597 - val_loss: 2088.3977\n",
      "Epoch 9/20\n",
      "5/5 [==============================] - 3s 594ms/step - loss: 2613.4497 - val_loss: 2008.7939\n",
      "Epoch 10/20\n",
      "5/5 [==============================] - 3s 562ms/step - loss: 2412.1909 - val_loss: 1906.4883\n",
      "Epoch 11/20\n",
      "5/5 [==============================] - 4s 715ms/step - loss: 2061.7300 - val_loss: 1862.3455\n",
      "Epoch 12/20\n",
      "5/5 [==============================] - 3s 686ms/step - loss: 2074.3499 - val_loss: 1944.5922\n",
      "Epoch 13/20\n",
      "5/5 [==============================] - 3s 664ms/step - loss: 2118.3008 - val_loss: 2232.7058\n",
      "Epoch 14/20\n",
      "5/5 [==============================] - 3s 700ms/step - loss: 2368.1597 - val_loss: 1745.0828\n",
      "Epoch 15/20\n",
      "5/5 [==============================] - 3s 591ms/step - loss: 2219.9165 - val_loss: 1840.6736\n",
      "Epoch 16/20\n",
      "5/5 [==============================] - 4s 724ms/step - loss: 1856.5596 - val_loss: 1747.6022\n",
      "Epoch 17/20\n",
      "5/5 [==============================] - 3s 577ms/step - loss: 1627.9965 - val_loss: 1975.1975\n",
      "Epoch 18/20\n",
      "5/5 [==============================] - 3s 552ms/step - loss: 2241.6194 - val_loss: 1687.8054\n",
      "Epoch 19/20\n",
      "5/5 [==============================] - 3s 553ms/step - loss: 1926.5374 - val_loss: 1857.7898\n",
      "Epoch 20/20\n",
      "5/5 [==============================] - 3s 560ms/step - loss: 1908.7341 - val_loss: 1933.3181\n"
     ]
    },
    {
     "data": {
      "text/plain": [
       "<tensorflow.python.keras.callbacks.History at 0x1744d3e80>"
      ]
     },
     "execution_count": 132,
     "metadata": {},
     "output_type": "execute_result"
    }
   ],
   "source": [
    "model.compile(loss='mean_squared_error',optimizer='Adam')\n",
    "model.fit(X_train, y_train, epochs=20, validation_data=(X_test, y_test))"
   ]
  },
  {
   "cell_type": "code",
   "execution_count": 133,
   "metadata": {},
   "outputs": [
    {
     "data": {
      "text/plain": [
       "Text(0, 0.5, 'Loss')"
      ]
     },
     "execution_count": 133,
     "metadata": {},
     "output_type": "execute_result"
    },
    {
     "data": {
      "image/png": "[encoded data removed]",
      "text/plain": [
       "<Figure size 864x360 with 1 Axes>"
      ]
     },
     "metadata": {
      "needs_background": "light"
     },
     "output_type": "display_data"
    }
   ],
   "source": [
    "# Visualize results\n",
    "history_df = pd.DataFrame(model.history.history)\n",
    "history_df[['loss', 'val_loss']].plot(figsize=(12,5))\n",
    "plt.title(\"Loss\", fontsize=16, weight='bold')\n",
    "plt.xlabel(\"Epoch\")\n",
    "plt.ylabel(\"Loss\")"
   ]
  },
  {
   "cell_type": "code",
   "execution_count": 134,
   "metadata": {},
   "outputs": [
    {
     "data": {
      "text/plain": [
       "1933.3181351762773"
      ]
     },
     "execution_count": 134,
     "metadata": {},
     "output_type": "execute_result"
    }
   ],
   "source": [
    "from sklearn.metrics import mean_squared_error\n",
    "y_pred = model.predict(X_test)\n",
    "mean_squared_error(y_test, y_pred)"
   ]
  },
  {
   "cell_type": "code",
   "execution_count": 135,
   "metadata": {},
   "outputs": [],
   "source": [
    "model.save('boneage_model.h5')"
   ]
  },
  {
   "cell_type": "markdown",
   "metadata": {},
   "source": [
    "> # Predicción de Test dataset"
   ]
  },
  {
   "cell_type": "code",
   "execution_count": 136,
   "metadata": {},
   "outputs": [
    {
     "data": {
      "text/html": [
       "<div>\n",
       "<style scoped>\n",
       "    .dataframe tbody tr th:only-of-type {\n",
       "        vertical-align: middle;\n",
       "    }\n",
       "\n",
       "    .dataframe tbody tr th {\n",
       "        vertical-align: top;\n",
       "    }\n",
       "\n",
       "    .dataframe thead th {\n",
       "        text-align: right;\n",
       "    }\n",
       "</style>\n",
       "<table border=\"1\" class=\"dataframe\">\n",
       "  <thead>\n",
       "    <tr style=\"text-align: right;\">\n",
       "      <th></th>\n",
       "      <th>id</th>\n",
       "      <th>sex</th>\n",
       "    </tr>\n",
       "  </thead>\n",
       "  <tbody>\n",
       "    <tr>\n",
       "      <th>0</th>\n",
       "      <td>4360</td>\n",
       "      <td>1</td>\n",
       "    </tr>\n",
       "    <tr>\n",
       "      <th>1</th>\n",
       "      <td>4361</td>\n",
       "      <td>1</td>\n",
       "    </tr>\n",
       "    <tr>\n",
       "      <th>2</th>\n",
       "      <td>4362</td>\n",
       "      <td>1</td>\n",
       "    </tr>\n",
       "    <tr>\n",
       "      <th>3</th>\n",
       "      <td>4363</td>\n",
       "      <td>1</td>\n",
       "    </tr>\n",
       "    <tr>\n",
       "      <th>4</th>\n",
       "      <td>4364</td>\n",
       "      <td>1</td>\n",
       "    </tr>\n",
       "    <tr>\n",
       "      <th>...</th>\n",
       "      <td>...</td>\n",
       "      <td>...</td>\n",
       "    </tr>\n",
       "    <tr>\n",
       "      <th>195</th>\n",
       "      <td>4555</td>\n",
       "      <td>0</td>\n",
       "    </tr>\n",
       "    <tr>\n",
       "      <th>196</th>\n",
       "      <td>4556</td>\n",
       "      <td>0</td>\n",
       "    </tr>\n",
       "    <tr>\n",
       "      <th>197</th>\n",
       "      <td>4557</td>\n",
       "      <td>0</td>\n",
       "    </tr>\n",
       "    <tr>\n",
       "      <th>198</th>\n",
       "      <td>4558</td>\n",
       "      <td>0</td>\n",
       "    </tr>\n",
       "    <tr>\n",
       "      <th>199</th>\n",
       "      <td>4559</td>\n",
       "      <td>0</td>\n",
       "    </tr>\n",
       "  </tbody>\n",
       "</table>\n",
       "<p>200 rows × 2 columns</p>\n",
       "</div>"
      ],
      "text/plain": [
       "       id sex\n",
       "0    4360   1\n",
       "1    4361   1\n",
       "2    4362   1\n",
       "3    4363   1\n",
       "4    4364   1\n",
       "..    ...  ..\n",
       "195  4555   0\n",
       "196  4556   0\n",
       "197  4557   0\n",
       "198  4558   0\n",
       "199  4559   0\n",
       "\n",
       "[200 rows x 2 columns]"
      ]
     },
     "execution_count": 136,
     "metadata": {},
     "output_type": "execute_result"
    }
   ],
   "source": [
    "test_clean"
   ]
  },
  {
   "cell_type": "code",
   "execution_count": 137,
   "metadata": {},
   "outputs": [
    {
     "name": "stderr",
     "output_type": "stream",
     "text": [
      "100%|██████████| 100/100 [00:02<00:00, 39.65it/s]\n"
     ]
    }
   ],
   "source": [
    "test = test_clean[:100]\n",
    "test_image = []\n",
    "for i in tqdm(range(test.shape[0])):\n",
    "    img = image.load_img('boneage-test-dataset/boneage-test-dataset/'+str(test['id'][i])+'.png', target_size=(128,128,1), color_mode='grayscale')\n",
    "    img = image.img_to_array(img)\n",
    "    img = img/255\n",
    "    test_image.append(img)\n",
    "test = np.array(test_image)"
   ]
  },
  {
   "cell_type": "code",
   "execution_count": 138,
   "metadata": {},
   "outputs": [
    {
     "data": {
      "text/plain": [
       "array([[109.26541 ],\n",
       "       [124.01647 ],\n",
       "       [118.91478 ],\n",
       "       [116.53697 ],\n",
       "       [ 86.40703 ],\n",
       "       [ 73.675995],\n",
       "       [117.68906 ],\n",
       "       [ 93.64235 ],\n",
       "       [106.130035],\n",
       "       [119.26543 ],\n",
       "       [126.3869  ],\n",
       "       [105.74072 ],\n",
       "       [ 97.58141 ],\n",
       "       [121.42549 ],\n",
       "       [112.85852 ],\n",
       "       [113.33229 ],\n",
       "       [106.801865],\n",
       "       [127.970856],\n",
       "       [ 72.589355],\n",
       "       [180.14851 ],\n",
       "       [161.49683 ],\n",
       "       [116.640564],\n",
       "       [109.88095 ],\n",
       "       [ 80.96074 ],\n",
       "       [105.47751 ],\n",
       "       [ 76.88919 ],\n",
       "       [104.38197 ],\n",
       "       [111.93599 ],\n",
       "       [ 88.098236],\n",
       "       [112.52417 ],\n",
       "       [111.36445 ],\n",
       "       [113.65654 ],\n",
       "       [ 98.85901 ],\n",
       "       [ 83.49807 ],\n",
       "       [118.689545],\n",
       "       [ 87.50989 ],\n",
       "       [ 70.67091 ],\n",
       "       [117.94733 ],\n",
       "       [118.598816],\n",
       "       [ 94.32091 ],\n",
       "       [115.39952 ],\n",
       "       [112.94095 ],\n",
       "       [113.31924 ],\n",
       "       [151.7287  ],\n",
       "       [115.95976 ],\n",
       "       [117.50183 ],\n",
       "       [105.39691 ],\n",
       "       [ 86.06465 ],\n",
       "       [147.23898 ],\n",
       "       [103.436844],\n",
       "       [ 88.58658 ],\n",
       "       [ 79.11952 ],\n",
       "       [ 97.20836 ],\n",
       "       [111.738144],\n",
       "       [120.24364 ],\n",
       "       [ 84.59201 ],\n",
       "       [112.75847 ],\n",
       "       [125.99391 ],\n",
       "       [107.013306],\n",
       "       [125.86479 ],\n",
       "       [115.94641 ],\n",
       "       [114.87782 ],\n",
       "       [ 94.485306],\n",
       "       [ 77.06406 ],\n",
       "       [102.59729 ],\n",
       "       [107.58008 ],\n",
       "       [100.71818 ],\n",
       "       [ 96.54411 ],\n",
       "       [119.339455],\n",
       "       [ 96.59801 ],\n",
       "       [115.49353 ],\n",
       "       [ 94.78974 ],\n",
       "       [112.64404 ],\n",
       "       [ 88.11873 ],\n",
       "       [ 99.54507 ],\n",
       "       [ 85.95247 ],\n",
       "       [136.10394 ],\n",
       "       [103.29508 ],\n",
       "       [103.33353 ],\n",
       "       [107.0684  ],\n",
       "       [169.38797 ],\n",
       "       [121.5067  ],\n",
       "       [102.986176],\n",
       "       [ 73.4484  ],\n",
       "       [115.63483 ],\n",
       "       [116.512146],\n",
       "       [135.50542 ],\n",
       "       [102.60445 ],\n",
       "       [ 86.08943 ],\n",
       "       [ 82.24336 ],\n",
       "       [ 92.37857 ],\n",
       "       [ 93.4418  ],\n",
       "       [ 86.43733 ],\n",
       "       [124.07241 ],\n",
       "       [178.48633 ],\n",
       "       [115.63277 ],\n",
       "       [103.344955],\n",
       "       [ 70.79648 ],\n",
       "       [116.79793 ],\n",
       "       [157.1835  ]], dtype=float32)"
      ]
     },
     "execution_count": 138,
     "metadata": {},
     "output_type": "execute_result"
    }
   ],
   "source": [
    "prediction = model.predict(test)\n",
    "prediction"
   ]
  },
  {
   "cell_type": "code",
   "execution_count": null,
   "metadata": {},
   "outputs": [],
   "source": []
  }
 ],
 "metadata": {
  "kernelspec": {
   "display_name": "Python 3",
   "language": "python",
   "name": "python3"
  },
  "language_info": {
   "codemirror_mode": {
    "name": "ipython",
    "version": 3
   },
   "file_extension": ".py",
   "mimetype": "text/x-python",
   "name": "python",
   "nbconvert_exporter": "python",
   "pygments_lexer": "ipython3",
   "version": "3.8.3"
  }
 },
 "nbformat": 4,
 "nbformat_minor": 4
}
